{
 "cells": [
  {
   "cell_type": "code",
   "execution_count": 5,
   "metadata": {},
   "outputs": [
    {
     "name": "stdout",
     "output_type": "stream",
     "text": [
      "Tensor(\"Add_4:0\", shape=(), dtype=int32)\n",
      "Tensor(\"Add_5:0\", shape=(), dtype=int32)\n"
     ]
    }
   ],
   "source": [
    "import tensorflow as tf\n",
    "a = tf.add(4,3)\n",
    "print(a)\n",
    "b = tf.add(4,3)\n",
    "print(b)"
   ]
  },
  {
   "cell_type": "code",
   "execution_count": 6,
   "metadata": {},
   "outputs": [
    {
     "name": "stdout",
     "output_type": "stream",
     "text": [
      "Tensor(\"Add_6:0\", shape=(), dtype=int32)\n"
     ]
    },
    {
     "data": {
      "text/plain": [
       "7"
      ]
     },
     "execution_count": 6,
     "metadata": {},
     "output_type": "execute_result"
    }
   ],
   "source": [
    "a = tf.add(4,3)\n",
    "print(a) \n",
    "sess=tf.Session() \n",
    "sess.run(a)"
   ]
  },
  {
   "cell_type": "code",
   "execution_count": 7,
   "metadata": {},
   "outputs": [],
   "source": [
    "# 创建一个 常量 op, 返回值 'matrix1' 代表这个 1x2 矩阵.\n",
    "matrix1 = tf.constant([[4., 3.]])\n",
    "# 创建另外一个 常量 op, 返回值 'matrix2' 代表这个 2x1 矩阵.\n",
    "matrix2 = tf.constant([[2.],[2.]])\n",
    "# 创建一个矩阵乘法 matmul op , 把 'matrix1' 和 'matrix2' 作为输入.\n",
    "# 返回值 'product' 代表矩阵乘法的结果.\n",
    "product = tf.matmul(matrix1, matrix2)"
   ]
  },
  {
   "cell_type": "code",
   "execution_count": 8,
   "metadata": {},
   "outputs": [
    {
     "name": "stdout",
     "output_type": "stream",
     "text": [
      "[[14.]]\n"
     ]
    }
   ],
   "source": [
    "# 启动默认图.\n",
    "sess = tf.Session()\n",
    "# 调用 sess 的 'run()' 方法, 传入 'product' 作为该方法的参数，\n",
    "# 触发了图中三个 op (两个常量 op 和一个矩阵乘法 op)，\n",
    "# 向方法表明, 我们希望取回矩阵乘法 op 的输出.\n",
    "result = sess.run(product)\n",
    "# 返回值 'result' 是一个 numpy `ndarray` 对象.\n",
    "print(result)\n",
    "# ==> [[ 14.]]\n",
    "# 任务完成, 需要关闭会话以释放资源。\n",
    "sess.close()"
   ]
  },
  {
   "cell_type": "code",
   "execution_count": 9,
   "metadata": {},
   "outputs": [],
   "source": [
    "# 创建1个变量\n",
    "W = tf.Variable(1, name=\"coef\")\n",
    "# 创建一个张量\n",
    "a = tf.constant(3.0)"
   ]
  },
  {
   "cell_type": "code",
   "execution_count": 10,
   "metadata": {},
   "outputs": [
    {
     "name": "stdout",
     "output_type": "stream",
     "text": [
      "0.0\n"
     ]
    }
   ],
   "source": [
    "A = tf.Variable(tf.constant(0.0),dtype=tf.float32)\n",
    "with tf.Session() as sess:\n",
    "    sess.run(tf.global_variables_initializer())\n",
    "    print(sess.run(A))"
   ]
  },
  {
   "cell_type": "code",
   "execution_count": 11,
   "metadata": {},
   "outputs": [
    {
     "name": "stdout",
     "output_type": "stream",
     "text": [
      "0\n",
      "2\n",
      "4\n",
      "6\n"
     ]
    }
   ],
   "source": [
    "# 创建一个变量， 初始化为标量 Q. 初始化定义初值\n",
    "A = tf.Variable(0,name=\"counter\")\n",
    "# 创建一个 oP} 其作用是使 A 增加 2\n",
    "new_value = tf.add(A, 2)\n",
    "update = tf.assign(A,new_value)\n",
    "# 启动图变量初始化\n",
    "init_op = tf.global_variables_initializer()\n",
    "# 启动默认亂运行 op\n",
    "with tf.Session()as sess:\n",
    "    sess.run(init_op)\n",
    "\n",
    "#打印初始值\n",
    "#with tfmSession()as sess:\n",
    "    print(sess.run(A))\n",
    "\n",
    "# 重新赋值》 更新并打印\n",
    "    for _ in range(3):\n",
    "        sess.run(update)\n",
    "        print(sess.run(A))"
   ]
  },
  {
   "cell_type": "code",
   "execution_count": 12,
   "metadata": {},
   "outputs": [
    {
     "name": "stdout",
     "output_type": "stream",
     "text": [
      "9.0\n"
     ]
    }
   ],
   "source": [
    "a = tf.placeholder(\"float\")\n",
    "b = tf.placeholder(\"float\")\n",
    "\n",
    "y = tf.multiply(a,b) \n",
    "sess = tf.Session()#建立会话 \n",
    "\n",
    "print(sess.run(y,feed_dict={a: 3,b: 3}))\n",
    "\n",
    "sess.close()"
   ]
  },
  {
   "cell_type": "code",
   "execution_count": 13,
   "metadata": {},
   "outputs": [
    {
     "name": "stdout",
     "output_type": "stream",
     "text": [
      "<bound method Tensor.get_shape of <tf.Tensor 'Const_4:0' shape=(2, 3) dtype=float32>>\n"
     ]
    }
   ],
   "source": [
    "#获取张量形状\n",
    "c = tf.constant([[1.0,2.0,3.0],[4.0,5.0,6.0]])\n",
    "print(c.get_shape)"
   ]
  },
  {
   "cell_type": "code",
   "execution_count": 14,
   "metadata": {},
   "outputs": [
    {
     "data": {
      "text/plain": [
       "array([[ 1,  2,  3],\n",
       "       [ 4,  5,  6],\n",
       "       [ 7,  8,  9],\n",
       "       [10, 11, 12]])"
      ]
     },
     "execution_count": 14,
     "metadata": {},
     "output_type": "execute_result"
    }
   ],
   "source": [
    "# 连接维度0\n",
    "t1 = [[1,2,3],[4,5,6]]\n",
    "t2 = [[7,8,9],[10,11,12]]\n",
    "t3 = tf.concat([t1,t2],0)\n",
    "sess=tf.Session()\n",
    "sess.run(t3)"
   ]
  },
  {
   "cell_type": "code",
   "execution_count": 15,
   "metadata": {},
   "outputs": [
    {
     "data": {
      "text/plain": [
       "array([[ 1,  2,  3],\n",
       "       [ 4,  5,  6],\n",
       "       [ 7,  8,  9],\n",
       "       [10, 11, 12]])"
      ]
     },
     "execution_count": 15,
     "metadata": {},
     "output_type": "execute_result"
    }
   ],
   "source": [
    "# 连接维度0\n",
    "t1 = [[1,2,3],[4,5,6]]\n",
    "t2 = [[7,8,9],[10,11,12]]\n",
    "t3 = tf.concat([t1,t2],0)\n",
    "sess=tf.Session()\n",
    "sess.run(t3)"
   ]
  },
  {
   "cell_type": "code",
   "execution_count": 16,
   "metadata": {},
   "outputs": [
    {
     "data": {
      "text/plain": [
       "1"
      ]
     },
     "execution_count": 16,
     "metadata": {},
     "output_type": "execute_result"
    }
   ],
   "source": [
    "a = [[1,2],[4,6]]\n",
    "b = [1,2]\n",
    "#t4 = tf.exp(2，3)\n",
    "t5 = tf.rank(a)\n",
    "t6 = tf.rank(b)\n",
    "sess=tf.Session()\n",
    "sess.run(t6)"
   ]
  },
  {
   "cell_type": "code",
   "execution_count": 18,
   "metadata": {},
   "outputs": [
    {
     "ename": "NameError",
     "evalue": "name 'GradientDescentOptimizer' is not defined",
     "output_type": "error",
     "traceback": [
      "\u001b[1;31m---------------------------------------------------------------------------\u001b[0m",
      "\u001b[1;31mNameError\u001b[0m                                 Traceback (most recent call last)",
      "\u001b[1;32m<ipython-input-18-9b91968e03a2>\u001b[0m in \u001b[0;36m<module>\u001b[1;34m\u001b[0m\n\u001b[0;32m      1\u001b[0m \u001b[1;31m# Create an optimizer with the desired parameters.\u001b[0m\u001b[1;33m\u001b[0m\u001b[1;33m\u001b[0m\u001b[1;33m\u001b[0m\u001b[0m\n\u001b[1;32m----> 2\u001b[1;33m \u001b[0mopt\u001b[0m \u001b[1;33m=\u001b[0m \u001b[0mGradientDescentOptimizer\u001b[0m\u001b[1;33m(\u001b[0m\u001b[0mlearning_rate\u001b[0m\u001b[1;33m=\u001b[0m\u001b[1;36m0.1\u001b[0m\u001b[1;33m)\u001b[0m\u001b[1;33m\u001b[0m\u001b[1;33m\u001b[0m\u001b[0m\n\u001b[0m",
      "\u001b[1;31mNameError\u001b[0m: name 'GradientDescentOptimizer' is not defined"
     ]
    }
   ],
   "source": [
    "# Create an optimizer with the desired parameters.\n",
    "opt = GradientDescentOptimizer(learning_rate=0.1)"
   ]
  },
  {
   "cell_type": "code",
   "execution_count": 19,
   "metadata": {},
   "outputs": [],
   "source": [
    "import numpy as np"
   ]
  },
  {
   "cell_type": "code",
   "execution_count": 20,
   "metadata": {},
   "outputs": [],
   "source": [
    "x_data = np.float32(np.random.rand(2,100))\n",
    "y_data = np.dot([0.100,0.200],x_data) + 0.300"
   ]
  },
  {
   "cell_type": "code",
   "execution_count": 21,
   "metadata": {},
   "outputs": [],
   "source": [
    "b = tf.Variable(tf.zeros([1.0]))"
   ]
  },
  {
   "cell_type": "code",
   "execution_count": 22,
   "metadata": {},
   "outputs": [],
   "source": [
    "W = tf.Variable(tf.random_uniform([1,2],-1.0,1.0))"
   ]
  },
  {
   "cell_type": "code",
   "execution_count": 23,
   "metadata": {},
   "outputs": [],
   "source": [
    "y = tf.matmul(W, x_data) + b"
   ]
  },
  {
   "cell_type": "code",
   "execution_count": 24,
   "metadata": {},
   "outputs": [
    {
     "name": "stdout",
     "output_type": "stream",
     "text": [
      "0 [[ 0.563493   -0.12658279]] [0.40014607]\n",
      "20 [[0.17702004 0.13519982]] [0.291025]\n",
      "40 [[0.11554179 0.18981874]] [0.2968363]\n",
      "60 [[0.10336039 0.1986631 ]] [0.29891202]\n",
      "80 [[0.10079353 0.19992523]] [0.2996305]\n",
      "100 [[0.10020605 0.20004207]] [0.29987532]\n",
      "120 [[0.10005827 0.20002617]] [0.29995808]\n",
      "140 [[0.10001758 0.20001093]] [0.29998595]\n",
      "160 [[0.10000554 0.20000407]] [0.29999527]\n",
      "180 [[0.10000181 0.20000143]] [0.2999984]\n",
      "200 [[0.10000058 0.20000048]] [0.29999948]\n"
     ]
    }
   ],
   "source": [
    "# 最小化方差\n",
    "loss = tf.reduce_mean(tf.square(y - y_data))\n",
    "optimizer = tf.train.GradientDescentOptimizer(0.5)\n",
    "train = optimizer.minimize(loss)\n",
    "\n",
    "# 初始化变量\n",
    "init = tf.global_variables_initializer()\n",
    "\n",
    "# 启动图 (graph)\n",
    "sess = tf.Session()\n",
    "sess.run(init)\n",
    "# 拟合平面\n",
    "for step in range(0,201):\n",
    "    sess.run(train)\n",
    "    if step % 20 == 0:\n",
    "        print (step,sess.run(W),sess.run(b))\n",
    "    \n"
   ]
  }
 ],
 "metadata": {
  "kernelspec": {
   "display_name": "Python 3",
   "language": "python",
   "name": "python3"
  },
  "language_info": {
   "codemirror_mode": {
    "name": "ipython",
    "version": 3
   },
   "file_extension": ".py",
   "mimetype": "text/x-python",
   "name": "python",
   "nbconvert_exporter": "python",
   "pygments_lexer": "ipython3",
   "version": "3.7.3"
  }
 },
 "nbformat": 4,
 "nbformat_minor": 2
}
