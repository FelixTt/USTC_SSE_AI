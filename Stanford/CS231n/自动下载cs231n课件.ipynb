{
 "cells": [
  {
   "cell_type": "code",
   "execution_count": 1,
   "metadata": {},
   "outputs": [
    {
     "name": "stdout",
     "output_type": "stream",
     "text": [
      "Download finished\n"
     ]
    }
   ],
   "source": [
    "import requests\n",
    "import os\n",
    "def get_url(i):\n",
    "    url = 'http://cs231n.stanford.edu/slides/2017/cs231n_2017_lecture{}.pdf'.format(i)\n",
    "    return url\n",
    "for i in range(1,17):\n",
    "    response = requests.get(get_url(i))\n",
    "    content = response.content\n",
    "    file_path = '{0}/{1}.{2}'.format(os.getcwd(),'cs231n_2017_lecture{}'.format(i),'pdf')\n",
    "    if not os.path.exists(file_path):\n",
    "        with open(file_path, 'wb') as f:\n",
    "            f.write(content)\n",
    "            f.close()\n",
    "print('Download finished')"
   ]
  },
  {
   "cell_type": "code",
   "execution_count": null,
   "metadata": {},
   "outputs": [],
   "source": []
  }
 ],
 "metadata": {
  "kernelspec": {
   "display_name": "Python 3",
   "language": "python",
   "name": "python3"
  },
  "language_info": {
   "codemirror_mode": {
    "name": "ipython",
    "version": 3
   },
   "file_extension": ".py",
   "mimetype": "text/x-python",
   "name": "python",
   "nbconvert_exporter": "python",
   "pygments_lexer": "ipython3",
   "version": "3.7.3"
  }
 },
 "nbformat": 4,
 "nbformat_minor": 2
}
